{
 "cells": [
  {
   "cell_type": "markdown",
   "metadata": {},
   "source": [
    "# Object-Oriented-Programming (OOP)"
   ]
  },
  {
   "cell_type": "markdown",
   "metadata": {},
   "source": [
    "## Tasks Today:\n",
    "\n",
    "   \n",
    "\n",
    "1) <b>Creating a Class (Initializing/Declaring)</b> <br>\n",
    "2) <b>Using a Class (Instantiating)</b> <br>\n",
    " &nbsp;&nbsp;&nbsp;&nbsp; a) Creating One Instance <br>\n",
    " &nbsp;&nbsp;&nbsp;&nbsp; b) Creating Multiple Instances <br>\n",
    " &nbsp;&nbsp;&nbsp;&nbsp; c) In-Class Exercise #1 - Create a Class 'Car' and instantiate three different makes of cars <br>\n",
    "3) <b>The \\__init\\__() Method</b> <br>\n",
    " &nbsp;&nbsp;&nbsp;&nbsp; a) The 'self' Attribute <br>\n",
    "4) <b>Class Attributes</b> <br>\n",
    " &nbsp;&nbsp;&nbsp;&nbsp; a) Initializing Attributes <br>\n",
    " &nbsp;&nbsp;&nbsp;&nbsp; b) Setting an Attribute Outside of the \\__init\\__() Method <br>\n",
    " &nbsp;&nbsp;&nbsp;&nbsp; c) Setting Defaults for Attributes <br>\n",
    " &nbsp;&nbsp;&nbsp;&nbsp; d) Accessing Class Attributes <br>\n",
    " &nbsp;&nbsp;&nbsp;&nbsp; e) Changing Class Attributes <br>\n",
    " &nbsp;&nbsp;&nbsp;&nbsp; f) In-Class Exercise #2 - Add a color and wheels attribute to your 'Car' class <br>\n",
    "5) <b>Class Methods</b> <br>\n",
    " &nbsp;&nbsp;&nbsp;&nbsp; a) Creating <br>\n",
    " &nbsp;&nbsp;&nbsp;&nbsp; b) Calling <br>\n",
    " &nbsp;&nbsp;&nbsp;&nbsp; c) Modifying an Attribute's Value Through a Method <br>\n",
    " &nbsp;&nbsp;&nbsp;&nbsp; d) Incrementing an Attribute's Value Through a Method <br>\n",
    " &nbsp;&nbsp;&nbsp;&nbsp; e) In-Class Exercise #3 - Add a method that prints the cars color and wheel number, then call them <br>\n",
    "6) <b>Inheritance</b> <br>\n",
    " &nbsp;&nbsp;&nbsp;&nbsp; a) Syntax for Inheriting from a Parent Class <br>\n",
    " &nbsp;&nbsp;&nbsp;&nbsp; b) The \\__init\\__() Method for a Child Class (super()) <br>\n",
    " &nbsp;&nbsp;&nbsp;&nbsp; c) Defining Attributes and Methods for the Child Class <br>\n",
    " &nbsp;&nbsp;&nbsp;&nbsp; d) Method Overriding <br>\n",
    " &nbsp;&nbsp;&nbsp;&nbsp; e) In-Class Exercise #4 - Create a class 'Ford' that inherits from 'Car' class and initialize it as a Blue Ford Explorer with 4 wheels using the super() method <br>\n",
    "7) <b>Classes as Attributes</b> <br>\n",
    "8) <b>Exercises</b> <br>\n",
    " &nbsp;&nbsp;&nbsp;&nbsp; a) Exercise #1 - Turn the shopping cart program from last week into an object-oriented program <br>"
   ]
  },
  {
   "cell_type": "markdown",
   "metadata": {},
   "source": [
    "#### Whiteboard"
   ]
  },
  {
   "cell_type": "code",
   "execution_count": null,
   "metadata": {},
   "outputs": [],
   "source": [
    "# Write a function that takes a non-empty array of integers that are sorted in ascending order and returns a new array of the same length with the squares of the original integers also sorted in ascending order \n",
    "# Sample Input:\n",
    "# Array = [1,2,3,5,6,8,9]\n",
    "# Sample Output:\n",
    "# [1,4,9,25,36,64,81]\n",
    "# Sample Input2:\n",
    "# Array = [-9,-3,1,2,5,6,8]\n",
    "# Sample Output2:\n",
    "# [1,4,9,25,36,64,81]\n",
    "\n",
    "array = [1,2,3,5,6,8,9]\n",
    "array2 = [-9,-3,1,2,5,6,8] \n",
    "\n",
    "squared_array = sorted(map(lambda x: x**2, array))\n",
    "print(squared_array)\n",
    "\n",
    "def squared(x):\n",
    "    return x**2\n",
    "\n",
    "squared_array2 = sorted(map(squared,array2))\n",
    "print(squared_array2)\n"
   ]
  },
  {
   "cell_type": "markdown",
   "metadata": {},
   "source": [
    "## Creating a Class (Initializing/Declaring)\n",
    "<p>When creating a class, function, or even a variable you are initializing that object. Initializing and Declaring occur at the same time in Python, whereas in lower level languages you have to declare an object before initializing it. This is the first step in the process of using a class.</p>"
   ]
  },
  {
   "cell_type": "code",
   "execution_count": null,
   "metadata": {},
   "outputs": [],
   "source": [
    "class Car():\n",
    "    wheels = 4\n",
    "    color = 'blue'\n",
    "    \n",
    "    "
   ]
  },
  {
   "cell_type": "markdown",
   "metadata": {},
   "source": [
    "## Using a Class (Instantiating)\n",
    "<p>The process of creating a class is called <i>Instantiating</i>. Each time you create a variable of that type of class, it is referred to as an <i>Instance</i> of that class. This is the second step in the process of using a class.</p>"
   ]
  },
  {
   "cell_type": "markdown",
   "metadata": {},
   "source": [
    "##### Creating One Instance"
   ]
  },
  {
   "cell_type": "code",
   "execution_count": null,
   "metadata": {},
   "outputs": [],
   "source": [
    "ford = Car()\n",
    "print(ford.wheels)"
   ]
  },
  {
   "cell_type": "markdown",
   "metadata": {},
   "source": [
    "##### Creating Multiple Instances"
   ]
  },
  {
   "cell_type": "code",
   "execution_count": null,
   "metadata": {},
   "outputs": [],
   "source": [
    "mazda = Car()\n",
    "nissan = Car()\n",
    "geo = Car()\n",
    "mercedes = Car()\n",
    "\n",
    "print(mazda.color)\n",
    "print(nissan.wheels)\n"
   ]
  },
  {
   "cell_type": "markdown",
   "metadata": {},
   "source": [
    "##### In-Class Exercise #1 - Create a Class 'Car' and Instantiate three different makes of cars"
   ]
  },
  {
   "cell_type": "code",
   "execution_count": null,
   "metadata": {},
   "outputs": [],
   "source": [
    "class Car():\n",
    "    roof = 'sunroof'\n",
    "    wheels = 4\n",
    "    color = 'black', 'white', 'gray', 'matte black'\n",
    "    seats = 5\n",
    "    \n",
    "jeep = Car()\n",
    "chevy = Car()\n",
    "ford = Car()\n",
    "\n",
    "print(jeep.color[-1])\n",
    "print(chevy.seats)\n",
    "print(ford.roof)"
   ]
  },
  {
   "cell_type": "markdown",
   "metadata": {},
   "source": [
    "## The \\__init\\__() Method <br>\n",
    "<p>This method is used in almost every created class, and called only once upon the creation of the class instance. This method will initialize all variables needed for the object.</p>"
   ]
  },
  {
   "cell_type": "code",
   "execution_count": null,
   "metadata": {},
   "outputs": [],
   "source": [
    "class Car():\n",
    "    ENGINE = '4.7L' \n",
    "    def __init__(self, wheels, color):\n",
    "        self.wheels = wheels\n",
    "        self.color = color \n",
    "        \n",
    "ford = Car(4, \"red\")\n",
    "print(ford.wheels)\n",
    "print(ford.color)\n",
    "print(ford.ENGINE)\n",
    "\n",
    "mazda = Car(4, 'blue')\n",
    "mercedes = Car(6, 'silver')\n",
    "\n",
    "print(mazda.color)\n",
    "print(mercedes.wheels)\n",
    "        "
   ]
  },
  {
   "cell_type": "markdown",
   "metadata": {},
   "source": [
    "##### The 'self' Attribute <br>\n",
    "<p>This attribute is required to keep track of specific instance's attributes. Without the self attribute, the program would not know how to reference or keep track of an instance's attributes.</p>"
   ]
  },
  {
   "cell_type": "code",
   "execution_count": null,
   "metadata": {},
   "outputs": [],
   "source": [
    "# see above"
   ]
  },
  {
   "cell_type": "markdown",
   "metadata": {},
   "source": [
    "## Class Attributes <br>\n",
    "<p>While variables are inside of a class, they are referred to as attributes and not variables. When someone says 'attribute' you know they're speaking about a class. Attributes can be initialized through the init method, or outside of it.</p>"
   ]
  },
  {
   "cell_type": "markdown",
   "metadata": {},
   "source": [
    "##### Initializing Attributes"
   ]
  },
  {
   "cell_type": "code",
   "execution_count": null,
   "metadata": {},
   "outputs": [],
   "source": [
    "# see above\n",
    "class Toy():\n",
    "    TYPE = 'Sock Em Boppers'\n",
    "    def __init__(self, color, size, weight): \n",
    "        self.color = color\n",
    "        self.size = size \n",
    "        self.weight = weight\n",
    "        \n",
    "boppers_1 = Toy('purple', 'large', '5oz')\n",
    "boppers_2 = Toy('yellow', 'small', '10oz')"
   ]
  },
  {
   "cell_type": "markdown",
   "metadata": {},
   "source": [
    "##### Accessing Class Attributes"
   ]
  },
  {
   "cell_type": "code",
   "execution_count": null,
   "metadata": {
    "scrolled": true
   },
   "outputs": [],
   "source": [
    "# See Above\n",
    "print(boppers_1.color)\n",
    "print(boppers_2.size)\n",
    "print(boppers_2.weight)"
   ]
  },
  {
   "cell_type": "markdown",
   "metadata": {},
   "source": [
    "##### Setting Defaults for Attributes"
   ]
  },
  {
   "cell_type": "code",
   "execution_count": null,
   "metadata": {},
   "outputs": [],
   "source": [
    "class Car():\n",
    "    ENGINE = '4.7L' #Constant = unlikely to change \n",
    "    def __init__(self, wheels):\n",
    "        self.wheels = wheels\n",
    "        self.color = 'Blue' #default attribute = this can be changed but it defaults to value given in class\n",
    "        \n",
    "honda = Car(4)\n",
    "hummer = Car(6)\n",
    "print(honda.wheels)\n",
    "print(hummer.wheels)\n",
    "print(hummer.color)\n",
    "\n",
    "Car.ENGINE = '5.8L' # Can change constant attribu"
   ]
  },
  {
   "cell_type": "markdown",
   "metadata": {},
   "source": [
    "##### Changing Class Attributes <br>\n",
    "<p>Keep in mind there are global class attributes and then there are attributes only available to each class instance which won't effect other classes.</p>"
   ]
  },
  {
   "cell_type": "code",
   "execution_count": null,
   "metadata": {},
   "outputs": [],
   "source": [
    "# Change the default attribute\n",
    "print(f\"Before the change: {honda.color}\")\n",
    "honda.color = \"White\"\n",
    "print(f\"After the change: {honda.color}\")\n",
    "\n",
    "print(f\"Hummer before the change: {hummer.wheels}\")\n",
    "hummer.wheels = 8\n",
    "print(f\"Hummer after the change: {hummer.wheels}\")\n",
    "\n",
    "hummer.__dict__"
   ]
  },
  {
   "cell_type": "code",
   "execution_count": null,
   "metadata": {},
   "outputs": [],
   "source": []
  },
  {
   "cell_type": "markdown",
   "metadata": {},
   "source": [
    "##### In-Class Exercise #2 - Add a doors and seats attribute to your 'Car' class then print out two different instances with different doors and seats"
   ]
  },
  {
   "cell_type": "code",
   "execution_count": null,
   "metadata": {},
   "outputs": [],
   "source": [
    "class Car():\n",
    "    def __init__(self, doors, seats, color):\n",
    "        self.doors = doors\n",
    "        self.seats = seats\n",
    "        self.color = color\n",
    "        self.engine = '6L'\n",
    "        \n",
    "honda = Car(4,5,'blue')\n",
    "GMC = Car(4,7,'black')\n",
    "\n",
    "print(honda.seats)\n",
    "print(GMC.seats)\n",
    "print(GMC.engine)"
   ]
  },
  {
   "cell_type": "markdown",
   "metadata": {},
   "source": [
    "## Class Methods <br>\n",
    "<p>While inside of a class, functions are referred to as 'methods'. If you hear someone mention methods, they're speaking about classes. Methods are essentially functions, but only callable on the instances of a class.</p>"
   ]
  },
  {
   "cell_type": "markdown",
   "metadata": {},
   "source": [
    "##### Creating"
   ]
  },
  {
   "cell_type": "code",
   "execution_count": null,
   "metadata": {},
   "outputs": [],
   "source": [
    "class Bus():\n",
    "    \"\"\"\n",
    "    The bus will have doors, seats, seats available, color, a bus driver\n",
    "    \n",
    "    Attributes for the class: \n",
    "    doors: expected to be an integer\n",
    "    seats: integer\n",
    "    seats_available: integer\n",
    "    color: string\n",
    "    bus_driver: string\n",
    "    \"\"\"\n",
    "    \n",
    "    def __init__(self, doors, seats, seats_available, color, bus_driver):\n",
    "        self.doors = doors\n",
    "        self.seats = seats\n",
    "        self.seats_available = seats_available\n",
    "        self.color = color\n",
    "        self.bus_driver = bus_driver\n",
    "        \n",
    "    #decrement the number of seats available \n",
    "    def load_passengers(self):\n",
    "        if self.seats_available <= 0:\n",
    "            print(\"This bus is full! We can't take anymore passengers\")\n",
    "            \n",
    "        else:\n",
    "            passengers = int(input(\"How many passengers are getting on? \"))\n",
    "            if self.seats_available < passengers:\n",
    "                print(f\"you left {abs(passengers - self.seats_available)} people by the road\")\n",
    "                self.seats_available = 0\n",
    "            else:\n",
    "                self.seats_available -= passengers \n",
    "                print(f\"{passengers} seats have been taken and there are {self.seats_available} seats left\")\n",
    "\n",
    "    #increment the number of seats available\n",
    "    def unload_passengers(self):\n",
    "        if self.seats_available >= self.seats: \n",
    "            print(\"There is no one left to get off the bus!\")\n",
    "            self.seats_available = self.seats \n",
    "        else:\n",
    "            unload = int(input(\"How many passengers getting off the bus? \"))\n",
    "            self.seats_available += unload \n",
    "            if self.seats_available >= self.seats:\n",
    "                self.seats_available = self.seats\n",
    "                print(f\"{unload} passengers have left the bus. There are {self.seats_available} seats available\")\n",
    "            print(f\"{unload} passengers have left the bus. There are {self.seats_available} seats available\")\n",
    "            \n",
    "    def change_driver(self):\n",
    "        change = input(\"Who is replacing you? \")\n",
    "        self.bus_driver = change\n",
    "        print(f\"The new bus driver is {self.bus_driver}\")\n",
    "        \n",
    "    def check_seats(self):\n",
    "        print(self.seats_available)\n",
    "        \n",
    "            \n",
    "alex_bus = Bus(2, 100, 50, 'red', 'Alex')  \n",
    "\n"
   ]
  },
  {
   "cell_type": "markdown",
   "metadata": {},
   "source": [
    "\n",
    "##### Calling"
   ]
  },
  {
   "cell_type": "code",
   "execution_count": null,
   "metadata": {},
   "outputs": [],
   "source": [
    "def run():\n",
    "    while True:\n",
    "        response = input(\"What would you like to do? Load/Unload/Change Driver/Check Seats/Quit? \")\n",
    "        \n",
    "        if response.lower() == 'quit':\n",
    "            print(\"Oh no! There are stil passengers to be picked up!\")\n",
    "            break\n",
    "            \n",
    "        elif response.lower() == 'load':\n",
    "            alex_bus.load_passengers()\n",
    "        elif response.lower() == 'unload':\n",
    "            alex_bus.unload_passengers()\n",
    "        elif response.lower() == 'change driver':\n",
    "            alex_bus.change_driver()\n",
    "        elif response.lower() == 'check seats':\n",
    "            alex_bus.check_seats()\n",
    "        else:\n",
    "            print(\"Invalid response\")\n",
    "            \n",
    "run()"
   ]
  },
  {
   "cell_type": "markdown",
   "metadata": {},
   "source": [
    "##### Modifying an Attribute's Value Through a Method"
   ]
  },
  {
   "cell_type": "code",
   "execution_count": null,
   "metadata": {},
   "outputs": [],
   "source": []
  },
  {
   "cell_type": "markdown",
   "metadata": {},
   "source": [
    "##### Incrementing an Attribute's Value Through a Method"
   ]
  },
  {
   "cell_type": "code",
   "execution_count": null,
   "metadata": {},
   "outputs": [],
   "source": []
  },
  {
   "cell_type": "markdown",
   "metadata": {},
   "source": [
    "##### In-Class Exercise #3 - Add a method that takes in three parameters of year, doors and seats and prints out a formatted print statement with make, model, year, seats, and doors"
   ]
  },
  {
   "cell_type": "code",
   "execution_count": null,
   "metadata": {},
   "outputs": [],
   "source": [
    "# Create class with 2 paramters inside of the __init__ which are make and model\n",
    "\n",
    "# Inside of the Car class create a method that has 4 parameter in total (self,year,door,seats, age)\n",
    "\n",
    "# Output: This car is from 2019 and is a Ford Expolorer and has 4 doors and 5 seats\n",
    "\n",
    "# Create method to increment car's age\n",
    "\n",
    "class Car():\n",
    "    \n",
    "    def __init__(self, make, model, year, seats, age, miles):\n",
    "        self.make = make\n",
    "        self.model = model\n",
    "        self.year = year\n",
    "        self.seats = seats\n",
    "        self.age = age\n",
    "        self.miles = miles\n",
    "\n",
    "    def age_up(self):\n",
    "        self.age += 2022 - self.year\n",
    "        return self.age\n",
    "    \n",
    "    def road_trip(self, distance):\n",
    "        self.miles += distance\n",
    "        return self.miles\n",
    "        \n",
    "\n",
    "alex_car = Car(\"Jeep\",\"Grand Cherokee\",2005,5, 0, 50000)\n",
    "\n",
    "alex_car.age_up()\n",
    "alex_car.road_trip(5000)\n",
    "\n",
    "print(alex_car.make)\n",
    "print(alex_car.model)\n",
    "print(alex_car.age)\n",
    "print(alex_car.miles)\n",
    "\n",
    "print(f\"My car is from {alex_car.year} so it is {alex_car.age} years old. It is a {alex_car.make} {alex_car.model} with {alex_car.seats} seats.\")"
   ]
  },
  {
   "cell_type": "markdown",
   "metadata": {},
   "source": [
    "## Inheritance <br>\n",
    "<p>You can create a child-parent relationship between two classes by using inheritance. What this allows you to do is have overriding methods, but also inherit traits from the parent class. Think of it as an actual parent and child, the child will inherit the parent's genes, as will the classes in OOP</p>"
   ]
  },
  {
   "cell_type": "markdown",
   "metadata": {},
   "source": [
    "##### Syntax for Inheriting from a Parent Class"
   ]
  },
  {
   "cell_type": "code",
   "execution_count": null,
   "metadata": {},
   "outputs": [],
   "source": [
    "class Animal():\n",
    "    ACCELERATION = 9.8\n",
    "    \n",
    "    def __init__(self, name, species, legs=4):\n",
    "        self.name = name\n",
    "        self.species = species\n",
    "        self.legs = legs\n",
    "        \n",
    "    #Generic Parent Animal class method \n",
    "    def make_sound(self):\n",
    "        print(\"reeeeeeeee\")\n",
    "        \n",
    "# Creating of our child class - Dog       \n",
    "class Dog(Animal):\n",
    "    SPEED = 15\n",
    "    \n",
    "    def printInfo(self):\n",
    "        print(f\"The dog runs at {self.SPEED} mph and accelerates at {self.ACCELERATION} mps.\")\n",
    "        \n",
    "# Creating of our grandchild class - Mut\n",
    "class Mut(Dog):\n",
    "    COLOR = \"black & brown\"\n",
    "    \n",
    "    def __init__(self, name, species, eye_color, legs=4):\n",
    "        Dog.__init__(self, name, species, legs)\n",
    "        self.eye_color = eye_color\n",
    "        \n",
    "    def make_sound(self):\n",
    "        print(\"ruff ruff ruff\")\n",
    "        \n",
    "        \n",
    "cheetah = Animal('Chester', 'cheetah')\n",
    "print(cheetah.name)\n",
    "\n",
    "lassie = Dog('Lassie','dog')\n",
    "print(lassie.name)\n",
    "print(lassie.ACCELERATION)\n",
    "print(lassie.SPEED)\n",
    "lassie.make_sound()\n",
    "eyo = Mut('Eyo','dog', 'brown')\n",
    "eyo.make_sound()"
   ]
  },
  {
   "cell_type": "markdown",
   "metadata": {},
   "source": [
    "##### The \\__init\\__() Method for a Child Class - super()"
   ]
  },
  {
   "cell_type": "code",
   "execution_count": null,
   "metadata": {
    "scrolled": true
   },
   "outputs": [],
   "source": [
    "class Mut(Dog):\n",
    "    color = 'black & brown'\n",
    "    #override the Animal Class __init__ with the super().__init__\n",
    "    \n",
    "    def __init__(self, name, species, eye_color, legs=4):\n",
    "        super().__init__(name,species,legs)\n",
    "        self.eye_color = eye_color\n",
    "        \n",
    "    def make_sound(self):\n",
    "        print(\"Woof\")\n",
    "        \n",
    "henri = Mut('Henri', 'dog', 'brown')\n",
    "\n",
    "henri.make_sound()\n",
    "print(henri.SPEED)\n",
    "\n",
    "henri.printInfo()"
   ]
  },
  {
   "cell_type": "markdown",
   "metadata": {},
   "source": [
    "##### Defining Attributes and Methods for the Child Class"
   ]
  },
  {
   "cell_type": "code",
   "execution_count": null,
   "metadata": {},
   "outputs": [],
   "source": [
    "# See Above"
   ]
  },
  {
   "cell_type": "markdown",
   "metadata": {},
   "source": [
    "##### Method Overriding"
   ]
  },
  {
   "cell_type": "code",
   "execution_count": null,
   "metadata": {},
   "outputs": [],
   "source": [
    "# See Above"
   ]
  },
  {
   "cell_type": "markdown",
   "metadata": {},
   "source": [
    "## Classes as Attributes <br>\n",
    "<p>Classes can also be used as attributes within another class. This is useful in situations where you need to keep variables locally stored, instead of globally stored.</p>"
   ]
  },
  {
   "cell_type": "code",
   "execution_count": null,
   "metadata": {},
   "outputs": [],
   "source": [
    "class Battery():\n",
    "    VOLTZ = 7.8\n",
    "    \n",
    "    def __init__(self, cells):\n",
    "        self.cells = cells\n",
    "        \n",
    "class Car():\n",
    "    def __init__(self,year,make,model,battery):\n",
    "        self.year = year\n",
    "        self.make = make\n",
    "        self.model = model\n",
    "        self.battery = battery \n",
    "        \n",
    "    def printInfo(self):\n",
    "        print(f\"{self.year} {self.make} {self.model} {self.battery.cells}\")\n",
    "        \n",
    "battery = Battery(20)\n",
    "\n",
    "mazda = Car(2015,'Mazda', '3', battery)\n",
    "\n",
    "mazda.printInfo()"
   ]
  },
  {
   "cell_type": "markdown",
   "metadata": {},
   "source": [
    "# Exercises"
   ]
  },
  {
   "cell_type": "markdown",
   "metadata": {},
   "source": [
    "### Exercise 1 - Turn the shopping cart program from yesterday into an object-oriented program\n",
    "\n",
    "The comments in the cell below are there as a guide for thinking about the problem. However, if you feel a different way is best for you and your own thought process, please do what feels best for you by all means."
   ]
  },
  {
   "cell_type": "code",
   "execution_count": 12,
   "metadata": {},
   "outputs": [],
   "source": [
    "# Create a class called cart that retains items and has methods to add, remove, and show\n",
    "\n",
    "class Cart():\n",
    "    \n",
    "    def __init__(self, name):\n",
    "        self.name = name\n",
    "        self.items = [] \n",
    "        \n",
    "    def add_cart(self):\n",
    "        items = input('What items would you like to add to your cart? ')\n",
    "        self.items.append(items)\n",
    "            \n",
    "    def del_cart(self):\n",
    "        items = input('What items would you like to remove from your cart? ')\n",
    "        self.items.remove(items)\n",
    "            \n",
    "    def show_cart(self):\n",
    "        print(f\"{self.name} your cart has the following items in it: \")\n",
    "        for item in self.items:\n",
    "            print(item)\n",
    "            \n",
    "    def checkout_cart(self):\n",
    "        print(f\"{self.name} your cart has {len(self.items)} items in it: \")\n",
    "        for item in self.items:\n",
    "            print(item)\n",
    "\n",
    "        item_len = len(self.items)\n",
    "        if item_len < 5:\n",
    "            print(f\"Your total is $10\")\n",
    "\n",
    "        elif item_len < 10:\n",
    "            print(f\"Your total is $15\")\n",
    "\n",
    "        else: \n",
    "            print(f\"Your total is $20\")\n",
    "        \n",
    "    def quit_cart(self):\n",
    "        print(f\"{self.name} you have {len(self.items)} item/s in your cart.\")\n",
    "       \n",
    "        \n",
    "        \n",
    "alex_cart = Cart(\"Alex\")"
   ]
  },
  {
   "cell_type": "code",
   "execution_count": 21,
   "metadata": {},
   "outputs": [
    {
     "name": "stdout",
     "output_type": "stream",
     "text": [
      "Henri your cart has 5 items in it: \n",
      "dog food\n",
      "meatloaf\n",
      "tuna\n",
      "ice cream\n",
      "steak\n",
      "Your total is $15\n"
     ]
    }
   ],
   "source": [
    "from IPython.display import clear_output\n",
    "\n",
    "def run():\n",
    "    name = input(\"What is your name: \")\n",
    "    name = name.title()\n",
    "    my_cart = Cart(name)\n",
    "    \n",
    "    print(f\"Hi {name}!\")\n",
    "    \n",
    "    while True:\n",
    "        \n",
    "        prompt = \"What would you like to do? \\nAdd items to your cart(type 'add')? Delete items from your cart(type 'del')?\"\n",
    "        prompt += \"Show your cart items(type 'show')? Checkout (type 'done')? Quit(type 'quit')? \"\n",
    "        \n",
    "        response = input(prompt)\n",
    "        \n",
    "        if response.lower() == 'quit':\n",
    "            my_cart.quit_cart()\n",
    "            clear_output()\n",
    "            goodbye = input('Are you sure you want to quit (y/n)? ')\n",
    "            if goodbye.lower() == 'y':\n",
    "                print(f\"Goodbye {name}!\")\n",
    "                break \n",
    "            else:\n",
    "                continue \n",
    "            \n",
    "        elif response.lower() == 'add':\n",
    "            my_cart.add_cart()\n",
    "            clear_output()\n",
    "        elif response.lower() == 'del':\n",
    "            my_cart.del_cart()\n",
    "            clear_output()\n",
    "        elif response.lower() == 'show':\n",
    "            clear_output()\n",
    "            my_cart.show_cart()\n",
    "             \n",
    "        elif response.lower() == 'done':\n",
    "            clear_output()\n",
    "            my_cart.checkout_cart()\n",
    "            break\n",
    "        else:\n",
    "            print(\"Invalid response\")\n",
    "            clear_output()\n",
    "                  \n",
    "run()"
   ]
  },
  {
   "cell_type": "markdown",
   "metadata": {},
   "source": [
    "### Exercise 2 - Write a Python class which has two methods get_String and print_String. get_String accept a string from the user and print_String print the string in upper case"
   ]
  },
  {
   "cell_type": "code",
   "execution_count": 29,
   "metadata": {},
   "outputs": [
    {
     "name": "stdout",
     "output_type": "stream",
     "text": [
      "Alright Goodbye!\n"
     ]
    }
   ],
   "source": [
    "from IPython.display import clear_output\n",
    "class String():\n",
    "    \n",
    "    my_string.get_String()\n",
    "    \n",
    "    def get_String(self):\n",
    "        self.string = input(\"What are your favorite things about spring? \")\n",
    "        my_string.print_String()\n",
    "        \n",
    "    def print_String(self):\n",
    "        print(f\"Your favorite thing about spring is: {self.string.upper()}\")\n",
    "        answer = input(\"Do you have another favorite thing about spring (y/n)? \")\n",
    "        if answer.lower() == 'y':\n",
    "            clear_output()\n",
    "            my_string.get_String()\n",
    "        if answer.lower() == 'n':\n",
    "            clear_output()\n",
    "            print(\"Alright Goodbye!\")\n",
    "        \n",
    "my_string = String()"
   ]
  },
  {
   "cell_type": "code",
   "execution_count": null,
   "metadata": {},
   "outputs": [],
   "source": []
  }
 ],
 "metadata": {
  "kernelspec": {
   "display_name": "Python 3 (ipykernel)",
   "language": "python",
   "name": "python3"
  },
  "language_info": {
   "codemirror_mode": {
    "name": "ipython",
    "version": 3
   },
   "file_extension": ".py",
   "mimetype": "text/x-python",
   "name": "python",
   "nbconvert_exporter": "python",
   "pygments_lexer": "ipython3",
   "version": "3.9.7"
  }
 },
 "nbformat": 4,
 "nbformat_minor": 2
}
